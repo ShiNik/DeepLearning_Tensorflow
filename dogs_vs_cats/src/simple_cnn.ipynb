{
 "cells": [
  {
   "cell_type": "markdown",
   "metadata": {
    "id": "view-in-github",
    "colab_type": "text"
   },
   "source": [
    "<a href=\"https://colab.research.google.com/github/ladangol/DeepLearning_Tensorflow/blob/master/dogs_vs_cats/src/simple_cnn.ipynb\" target=\"_parent\"><img src=\"https://colab.research.google.com/assets/colab-badge.svg\" alt=\"Open In Colab\"/></a>"
   ]
  },
  {
   "cell_type": "code",
   "execution_count": 1,
   "metadata": {
    "id": "fQvfLXUWeZ3q",
    "colab_type": "code",
    "outputId": "de869242-65b3-49e2-8f86-592355d333c7",
    "colab": {
     "base_uri": "https://localhost:8080/",
     "height": 34.0
    }
   },
   "outputs": [
    {
     "name": "stderr",
     "output_type": "stream",
     "text": [
      "Using TensorFlow backend.\n"
     ]
    }
   ],
   "source": [
    "import keras\n",
    "from keras.layers import Dropout\n",
    "from keras.models import Sequential\n",
    "from keras.layers import Conv2D\n",
    "from keras.layers import MaxPooling2D\n",
    "from keras.layers import Dense\n",
    "from keras.layers import Flatten\n",
    "from keras.optimizers import SGD\n",
    "from sklearn.model_selection import train_test_split\n",
    "from sklearn.metrics import classification_report\n",
    "\n",
    "from keras.callbacks import TensorBoard, ModelCheckpoint, EarlyStopping\n",
    "\n",
    "import numpy as np\n",
    "import os\n",
    "import cv2\n",
    "import random\n",
    "import matplotlib.pyplot as plt\n",
    "from os import listdir\n",
    "from numpy import save, load\n",
    "import time\n",
    "\n"
   ]
  },
  {
   "cell_type": "code",
   "execution_count": 0,
   "metadata": {
    "id": "nQKoQ1dbv5H7",
    "colab_type": "code",
    "colab": {}
   },
   "outputs": [],
   "source": [
    "def prepare_data(in_data_dir, in_image_size):\n",
    "    imagePaths = []\n",
    "    \n",
    "    # define location of dataset\n",
    "    folder = os.path.join(in_data_dir, 'train/')\n",
    "\n",
    "    # enumerate files in the directory\n",
    "    for file in listdir(folder):\n",
    "        imagePath = os.path.join(folder, file)  # create path to dogs and cats\n",
    "        imagePaths.append(imagePath)\n",
    "\n",
    "    random.seed(42)\n",
    "    random.shuffle(imagePaths)\n",
    "    data, labels = list(), list()\n",
    "    for imagePath in imagePaths:\n",
    "        image = cv2.imread(imagePath)\n",
    "        image = cv2.resize(image, (in_image_size, in_image_size))\n",
    "        data.append(image)\n",
    "        #label = imagePath.split(os.path.sep)[-2]\n",
    "\n",
    "        # determine class\n",
    "        output = 0.0\n",
    "        label = os.path.basename(imagePath)\n",
    "        if label.lower().startswith('cat'):\n",
    "            output = 1.0\n",
    "\n",
    "        labels.append(output)\n",
    "\n",
    "    # scale the raw pixel intensities to the range [0, 1]\n",
    "    data = np.array(data, dtype=\"float\") / 255.0\n",
    "    labels = np.array(labels)\n",
    "\n",
    "    print(data.shape, labels.shape)\n",
    "    # save the reshaped photos\n",
    "    save(photoes_name, data)\n",
    "    save(labels_name, labels)\n",
    "\n",
    "    return data, labels"
   ]
  },
  {
   "cell_type": "code",
   "execution_count": 3,
   "metadata": {
    "id": "7YvEZzEh2acR",
    "colab_type": "code",
    "colab": {
     "base_uri": "https://localhost:8080/",
     "height": 122.0
    },
    "outputId": "5a8fd872-2807-4018-885e-415bd87cfed5"
   },
   "outputs": [
    {
     "name": "stdout",
     "output_type": "stream",
     "text": [
      "Go to this URL in a browser: https://accounts.google.com/o/oauth2/auth?client_id=947318989803-6bn6qk8qdgf4n4g3pfee6491hc0brc4i.apps.googleusercontent.com&redirect_uri=urn%3Aietf%3Awg%3Aoauth%3A2.0%3Aoob&scope=email%20https%3A%2F%2Fwww.googleapis.com%2Fauth%2Fdocs.test%20https%3A%2F%2Fwww.googleapis.com%2Fauth%2Fdrive%20https%3A%2F%2Fwww.googleapis.com%2Fauth%2Fdrive.photos.readonly%20https%3A%2F%2Fwww.googleapis.com%2Fauth%2Fpeopleapi.readonly&response_type=code\n",
      "\n",
      "Enter your authorization code:\n",
      "··········\n",
      "Mounted at /content/gdrive/\n"
     ]
    }
   ],
   "source": [
    "from google.colab import drive\n",
    "drive.mount('/content/gdrive/')"
   ]
  },
  {
   "cell_type": "code",
   "execution_count": 0,
   "metadata": {
    "id": "ZfTnYdxkwwNa",
    "colab_type": "code",
    "colab": {}
   },
   "outputs": [],
   "source": [
    "root_path = '/content/gdrive/My Drive/DeepLearning_Tensorflow/dogs_vs_cats'\n",
    "image_size = 224\n",
    "EPOCHS = 150\n",
    "num_classes = 2\n",
    "\n",
    "save_model = 'models/simple_nn.model'\n",
    "save_label = 'models/simple_nn_lb.pickle'\n",
    "save_plot = 'models/simple_nn_plot.png'\n",
    "data_path = 'data/'\n",
    "photoes_name = os.path.join(data_path, 'simple_dogs_vs_cats_photos.npy')\n",
    "labels_name = os.path.join(data_path, 'simple_dogs_vs_cats_labels.npy')"
   ]
  },
  {
   "cell_type": "code",
   "execution_count": 0,
   "metadata": {
    "id": "uxHTx4IjxYpV",
    "colab_type": "code",
    "colab": {}
   },
   "outputs": [],
   "source": [
    "def define_model():\n",
    "    model = Sequential()\n",
    "\n",
    "    model.add(Conv2D(32, (3, 3), activation='relu', kernel_initializer='he_uniform', padding='same', input_shape=(image_size, image_size, 3)))\n",
    "    model.add(MaxPooling2D((2, 2)))\n",
    "\n",
    "   #model.add(Dropout(0.2))\n",
    "\n",
    "    model.add(Conv2D(64, (3, 3), activation='relu', kernel_initializer='he_uniform', padding='same'))\n",
    "    model.add(MaxPooling2D((2, 2)))\n",
    "\n",
    "    #model.add(Dropout(0.2))\n",
    "\n",
    "    model.add(Conv2D(128, (3, 3), activation='relu', kernel_initializer='he_uniform', padding='same'))\n",
    "    model.add(MaxPooling2D((2, 2)))\n",
    "\n",
    "    #model.add(Dropout(0.2))\n",
    "\n",
    "    model.add(Conv2D(128, (3, 3), activation='relu', kernel_initializer='he_uniform', padding='same'))\n",
    "    model.add(MaxPooling2D((2, 2)))\n",
    "\n",
    "    #model.add(Dropout(0.2))\n",
    "\n",
    "    model.add(Flatten())\n",
    "    model.add(Dense(128, activation='relu', kernel_initializer='he_uniform'))\n",
    "\n",
    "    model.add(Dropout(0.5))\n",
    "\n",
    "    model.add(Dense(num_classes, activation=\"softmax\"))\n",
    "    # compile model\n",
    "    opt = SGD(lr=0.0001, momentum=0.9)\n",
    "    #opt='adam'\n",
    "    model.compile(optimizer=opt, loss='categorical_crossentropy', metrics=['accuracy'])\n",
    "    model .summary()\n",
    "    return model"
   ]
  },
  {
   "cell_type": "code",
   "execution_count": 0,
   "metadata": {
    "id": "9LslajeVxco7",
    "colab_type": "code",
    "colab": {}
   },
   "outputs": [],
   "source": [
    "def predict_multi():\n",
    "    categories = [\"Dog\", \"Cat\"]\n",
    "    model_path = 'models/Model-48-0.814.model'\n",
    "    model = keras.models.load_model(model_path)\n",
    "    path = os.path.join(data_path,'test')\n",
    "    for image_name in os.listdir(path):\n",
    "        image_path = os.path.join(path, image_name)\n",
    "        image = cv2.imread(image_path)\n",
    "        image = cv2.resize(image, (image_size, image_size))\n",
    "\n",
    "        predictions = model.predict([image.reshape(-1, image_size, image_size, 3)])\n",
    "        classId = np.argmax(predictions)\n",
    "        className = categories[classId]\n",
    "        print(image_name + ': Prediction ' + className)\n",
    "        plt.imshow(image, cmap=plt.cm.binary)\n",
    "        plt.xlabel(className)\n",
    "        plt.show()"
   ]
  },
  {
   "cell_type": "code",
   "execution_count": 16,
   "metadata": {
    "id": "TR2IyvP4pe8Q",
    "colab_type": "code",
    "colab": {
     "base_uri": "https://localhost:8080/",
     "height": 341.0
    },
    "outputId": "b186a5c1-007b-4feb-e673-524b47aa2298"
   },
   "outputs": [
    {
     "ename": "FileNotFoundError",
     "evalue": "ignored",
     "traceback": [
      "\u001b[0;31m---------------------------------------------------------------------------\u001b[0m",
      "\u001b[0;31mFileNotFoundError\u001b[0m                         Traceback (most recent call last)",
      "\u001b[0;32m<ipython-input-16-71421e856f86>\u001b[0m in \u001b[0;36m<module>\u001b[0;34m()\u001b[0m\n\u001b[1;32m     60\u001b[0m     \u001b[0mmodel\u001b[0m\u001b[0;34m.\u001b[0m\u001b[0msave\u001b[0m\u001b[0;34m(\u001b[0m\u001b[0msave_model\u001b[0m\u001b[0;34m)\u001b[0m\u001b[0;34m\u001b[0m\u001b[0;34m\u001b[0m\u001b[0m\n\u001b[1;32m     61\u001b[0m \u001b[0;34m\u001b[0m\u001b[0m\n\u001b[0;32m---> 62\u001b[0;31m \u001b[0mmain\u001b[0m\u001b[0;34m(\u001b[0m\u001b[0;34m)\u001b[0m\u001b[0;34m\u001b[0m\u001b[0;34m\u001b[0m\u001b[0m\n\u001b[0m",
      "\u001b[0;32m<ipython-input-16-71421e856f86>\u001b[0m in \u001b[0;36mmain\u001b[0;34m()\u001b[0m\n\u001b[1;32m     10\u001b[0m     \u001b[0;32mif\u001b[0m\u001b[0;34m(\u001b[0m\u001b[0mdo_data_preparation\u001b[0m\u001b[0;34m)\u001b[0m\u001b[0;34m:\u001b[0m\u001b[0;34m\u001b[0m\u001b[0;34m\u001b[0m\u001b[0m\n\u001b[1;32m     11\u001b[0m \u001b[0;34m\u001b[0m\u001b[0m\n\u001b[0;32m---> 12\u001b[0;31m         \u001b[0mdata\u001b[0m\u001b[0;34m,\u001b[0m \u001b[0mlabels\u001b[0m \u001b[0;34m=\u001b[0m \u001b[0mprepare_data\u001b[0m\u001b[0;34m(\u001b[0m\u001b[0mos\u001b[0m\u001b[0;34m.\u001b[0m\u001b[0mpath\u001b[0m\u001b[0;34m.\u001b[0m\u001b[0mjoin\u001b[0m\u001b[0;34m(\u001b[0m\u001b[0mroot_path\u001b[0m\u001b[0;34m,\u001b[0m\u001b[0mdata_path\u001b[0m\u001b[0;34m)\u001b[0m\u001b[0;34m,\u001b[0m \u001b[0mimage_size\u001b[0m\u001b[0;34m)\u001b[0m\u001b[0;34m\u001b[0m\u001b[0;34m\u001b[0m\u001b[0m\n\u001b[0m\u001b[1;32m     13\u001b[0m \u001b[0;34m\u001b[0m\u001b[0m\n\u001b[1;32m     14\u001b[0m     \u001b[0mdata\u001b[0m \u001b[0;34m=\u001b[0m \u001b[0mload\u001b[0m\u001b[0;34m(\u001b[0m\u001b[0mphotoes_name\u001b[0m\u001b[0;34m)\u001b[0m\u001b[0;34m\u001b[0m\u001b[0;34m\u001b[0m\u001b[0m\n",
      "\u001b[0;32m<ipython-input-13-c3532944a50d>\u001b[0m in \u001b[0;36mprepare_data\u001b[0;34m(in_data_dir, in_image_size)\u001b[0m\n\u001b[1;32m      6\u001b[0m \u001b[0;34m\u001b[0m\u001b[0m\n\u001b[1;32m      7\u001b[0m     \u001b[0;31m# enumerate files in the directory\u001b[0m\u001b[0;34m\u001b[0m\u001b[0;34m\u001b[0m\u001b[0;34m\u001b[0m\u001b[0m\n\u001b[0;32m----> 8\u001b[0;31m     \u001b[0;32mfor\u001b[0m \u001b[0mfile\u001b[0m \u001b[0;32min\u001b[0m \u001b[0mlistdir\u001b[0m\u001b[0;34m(\u001b[0m\u001b[0mfolder\u001b[0m\u001b[0;34m)\u001b[0m\u001b[0;34m:\u001b[0m\u001b[0;34m\u001b[0m\u001b[0;34m\u001b[0m\u001b[0m\n\u001b[0m\u001b[1;32m      9\u001b[0m         \u001b[0mimagePath\u001b[0m \u001b[0;34m=\u001b[0m \u001b[0mos\u001b[0m\u001b[0;34m.\u001b[0m\u001b[0mpath\u001b[0m\u001b[0;34m.\u001b[0m\u001b[0mjoin\u001b[0m\u001b[0;34m(\u001b[0m\u001b[0mfolder\u001b[0m\u001b[0;34m,\u001b[0m \u001b[0mfile\u001b[0m\u001b[0;34m)\u001b[0m  \u001b[0;31m# create path to dogs and cats\u001b[0m\u001b[0;34m\u001b[0m\u001b[0;34m\u001b[0m\u001b[0m\n\u001b[1;32m     10\u001b[0m         \u001b[0mimagePaths\u001b[0m\u001b[0;34m.\u001b[0m\u001b[0mappend\u001b[0m\u001b[0;34m(\u001b[0m\u001b[0mimagePath\u001b[0m\u001b[0;34m)\u001b[0m\u001b[0;34m\u001b[0m\u001b[0;34m\u001b[0m\u001b[0m\n",
      "\u001b[0;31mFileNotFoundError\u001b[0m: [Errno 2] No such file or directory: '/content/gdrive/My Drive/DeepLearning_Tensorflow/dogs_vs_cats/data/train/'"
     ],
     "output_type": "error"
    }
   ],
   "source": [
    "\n",
    "\n",
    "def main():\n",
    "    do_predict = False\n",
    "    if (do_predict):\n",
    "        predict_multi()\n",
    "        return\n",
    "\n",
    "    do_data_preparation = True\n",
    "    if(do_data_preparation):\n",
    "        \n",
    "        data, labels = prepare_data(os.path.join(root_path,data_path), image_size)\n",
    "\n",
    "    data = load(photoes_name)\n",
    "    labels = load(labels_name)\n",
    "\n",
    "    (trainX, testX, trainY, testY) = train_test_split(data, labels, test_size=0.25, random_state=42)\n",
    "\n",
    "    trainY = keras.utils.to_categorical(trainY, num_classes)\n",
    "    testY = keras.utils.to_categorical(testY,  num_classes)\n",
    "\n",
    "    model = define_model()\n",
    "\n",
    "    NAME = f'Cat-vs-dog-cnn-64x2-{int(time.time())}'\n",
    "    filepath = \"Model-{epoch:02d}-{val_acc:.3f}\"  # unique file name that will include the epoch and the validation acc for that epoch\n",
    "    checkpoint = ModelCheckpoint(\"Models/{}.model\".format(filepath, monitor='val_acc', verbose=1, save_best_only=True,\n",
    "                                                          mode='max'))  # saves only the best ones\n",
    "    tensorBoard = TensorBoard(log_dir='Models/logs/{}'.format(NAME))\n",
    "\n",
    "    early_stop = EarlyStopping(monitor='val_loss', patience=1, verbose=1, mode='auto')\n",
    "    callback_list = [checkpoint, tensorBoard]\n",
    "\n",
    "    # train the neural network\n",
    "    H = model.fit(trainX, trainY, validation_data=(testX, testY),\n",
    "                  epochs=EPOCHS, batch_size=32, verbose=1, callbacks=callback_list)\n",
    "\n",
    "    # evaluate the network\n",
    "    print(\"[INFO] evaluating network...\")\n",
    "    predictions = model.predict(testX, batch_size=32)\n",
    "    print(classification_report(testY.argmax(axis=1),\n",
    "                                predictions.argmax(axis=1), target_names=num_classes))\n",
    "\n",
    "    # # plot the training loss and accuracy\n",
    "    # N = np.arange(0, EPOCHS)\n",
    "    # plt.style.use(\"ggplot\")\n",
    "    # plt.figure()\n",
    "    # plt.plot(N, H.history[\"loss\"], label=\"train_loss\")\n",
    "    # plt.plot(N, H.history[\"val_loss\"], label=\"val_loss\")\n",
    "    # plt.plot(N, H.history[\"acc\"], label=\"train_acc\")\n",
    "    # plt.plot(N, H.history[\"val_acc\"], label=\"val_acc\")\n",
    "    # plt.title(\"Training Loss and Accuracy (Simple NN)\")\n",
    "    # plt.xlabel(\"Epoch #\")\n",
    "    # plt.ylabel(\"Loss/Accuracy\")\n",
    "    # plt.legend()\n",
    "    # plt.savefig(save_plot)\n",
    "    #\n",
    "    # # save the model and label binarizer to disk\n",
    "    # print(\"[INFO] serializing network and label binarizer...\")\n",
    "\n",
    "    model.save(save_model)\n",
    "\n",
    "main()"
   ]
  },
  {
   "cell_type": "code",
   "execution_count": 0,
   "metadata": {
    "id": "BRTn1fXtcCmr",
    "colab_type": "code",
    "colab": {}
   },
   "outputs": [],
   "source": [
    ""
   ]
  }
 ],
 "metadata": {
  "colab": {
   "name": "simple_cnn.ipynb",
   "provenance": [],
   "collapsed_sections": [],
   "include_colab_link": true
  },
  "kernelspec": {
   "name": "python3",
   "display_name": "Python 3"
  },
  "accelerator": "GPU"
 },
 "nbformat": 4,
 "nbformat_minor": 0
}
